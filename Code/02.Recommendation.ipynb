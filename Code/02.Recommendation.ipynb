{
 "cells": [
  {
   "cell_type": "markdown",
   "metadata": {},
   "source": [
    "### Library"
   ]
  },
  {
   "cell_type": "code",
   "execution_count": 1,
   "metadata": {},
   "outputs": [],
   "source": [
    "import numpy as np\n",
    "import pandas as pd\n",
    "import matrix_factorization_utilities"
   ]
  },
  {
   "cell_type": "markdown",
   "metadata": {},
   "source": [
    "Ratings Data Set"
   ]
  },
  {
   "cell_type": "code",
   "execution_count": 2,
   "metadata": {},
   "outputs": [
    {
     "data": {
      "text/html": [
       "<div>\n",
       "<style scoped>\n",
       "    .dataframe tbody tr th:only-of-type {\n",
       "        vertical-align: middle;\n",
       "    }\n",
       "\n",
       "    .dataframe tbody tr th {\n",
       "        vertical-align: top;\n",
       "    }\n",
       "\n",
       "    .dataframe thead th {\n",
       "        text-align: right;\n",
       "    }\n",
       "</style>\n",
       "<table border=\"1\" class=\"dataframe\">\n",
       "  <thead>\n",
       "    <tr style=\"text-align: right;\">\n",
       "      <th></th>\n",
       "      <th>user_id</th>\n",
       "      <th>movie_id</th>\n",
       "      <th>rating</th>\n",
       "    </tr>\n",
       "  </thead>\n",
       "  <tbody>\n",
       "    <tr>\n",
       "      <th>0</th>\n",
       "      <td>1</td>\n",
       "      <td>28</td>\n",
       "      <td>4</td>\n",
       "    </tr>\n",
       "    <tr>\n",
       "      <th>1</th>\n",
       "      <td>1</td>\n",
       "      <td>26</td>\n",
       "      <td>4</td>\n",
       "    </tr>\n",
       "    <tr>\n",
       "      <th>2</th>\n",
       "      <td>1</td>\n",
       "      <td>9</td>\n",
       "      <td>4</td>\n",
       "    </tr>\n",
       "  </tbody>\n",
       "</table>\n",
       "</div>"
      ],
      "text/plain": [
       "   user_id  movie_id  rating\n",
       "0        1        28       4\n",
       "1        1        26       4\n",
       "2        1         9       4"
      ]
     },
     "execution_count": 2,
     "metadata": {},
     "output_type": "execute_result"
    }
   ],
   "source": [
    "ratings = pd.read_csv('../Data/Ratings.csv')\n",
    "ratings.head(3)"
   ]
  },
  {
   "cell_type": "markdown",
   "metadata": {},
   "source": [
    "Movies Data Set"
   ]
  },
  {
   "cell_type": "code",
   "execution_count": 3,
   "metadata": {},
   "outputs": [
    {
     "data": {
      "text/html": [
       "<div>\n",
       "<style scoped>\n",
       "    .dataframe tbody tr th:only-of-type {\n",
       "        vertical-align: middle;\n",
       "    }\n",
       "\n",
       "    .dataframe tbody tr th {\n",
       "        vertical-align: top;\n",
       "    }\n",
       "\n",
       "    .dataframe thead th {\n",
       "        text-align: right;\n",
       "    }\n",
       "</style>\n",
       "<table border=\"1\" class=\"dataframe\">\n",
       "  <thead>\n",
       "    <tr style=\"text-align: right;\">\n",
       "      <th></th>\n",
       "      <th>title</th>\n",
       "      <th>genre</th>\n",
       "    </tr>\n",
       "    <tr>\n",
       "      <th>movie_id</th>\n",
       "      <th></th>\n",
       "      <th></th>\n",
       "    </tr>\n",
       "  </thead>\n",
       "  <tbody>\n",
       "    <tr>\n",
       "      <th>1</th>\n",
       "      <td>The Sheriff 1</td>\n",
       "      <td>crime drama, western</td>\n",
       "    </tr>\n",
       "    <tr>\n",
       "      <th>2</th>\n",
       "      <td>The Big City Judge 1</td>\n",
       "      <td>legal drama</td>\n",
       "    </tr>\n",
       "    <tr>\n",
       "      <th>3</th>\n",
       "      <td>The Sheriff 2</td>\n",
       "      <td>crime drama, western</td>\n",
       "    </tr>\n",
       "  </tbody>\n",
       "</table>\n",
       "</div>"
      ],
      "text/plain": [
       "                         title                 genre\n",
       "movie_id                                            \n",
       "1                The Sheriff 1  crime drama, western\n",
       "2         The Big City Judge 1           legal drama\n",
       "3                The Sheriff 2  crime drama, western"
      ]
     },
     "execution_count": 3,
     "metadata": {},
     "output_type": "execute_result"
    }
   ],
   "source": [
    "movies = pd.read_csv('../Data/Movies.csv', index_col='movie_id')\n",
    "movies.head(3)"
   ]
  },
  {
   "cell_type": "markdown",
   "metadata": {},
   "source": [
    "Converting User Reviews into Matrix"
   ]
  },
  {
   "cell_type": "code",
   "execution_count": 4,
   "metadata": {},
   "outputs": [],
   "source": [
    "matrix = pd.pivot_table(ratings, \n",
    "                        index='user_id', \n",
    "                        columns='movie_id', \n",
    "                        aggfunc=np.max)"
   ]
  },
  {
   "cell_type": "markdown",
   "metadata": {},
   "source": [
    "Apply Matrix Factorization to find Latent Features ( Hidden Features computed from Observed Features )"
   ]
  },
  {
   "cell_type": "code",
   "execution_count": 5,
   "metadata": {},
   "outputs": [
    {
     "name": "stdout",
     "output_type": "stream",
     "text": [
      "Warning: Maximum number of iterations has been exceeded.\n",
      "         Current function value: 32.504368\n",
      "         Iterations: 3000\n",
      "         Function evaluations: 4491\n",
      "         Gradient evaluations: 4491\n"
     ]
    }
   ],
   "source": [
    "U, M = matrix_factorization_utilities.low_rank_matrix_factorization(matrix.values,\n",
    "                                                                    num_features=15,\n",
    "                                                                    regularization_amount=0.1)"
   ]
  },
  {
   "cell_type": "markdown",
   "metadata": {},
   "source": [
    "Find all Predicted Ratings by Multiplying U and M Matrices"
   ]
  },
  {
   "cell_type": "code",
   "execution_count": 6,
   "metadata": {},
   "outputs": [
    {
     "name": "stdout",
     "output_type": "stream",
     "text": [
      "Enter a User ID to get Recommendation between 1 and 100 :\n",
      "7\n",
      "\n",
      "Movies Previously Reviewed by User ID : 7\n",
      "\n",
      "Reviewed Movies : \n",
      "                    title                          genre  rating\n",
      "40          The Sheriff 3           crime drama, western       5\n",
      "41  The Serious Detective                detective drama       4\n",
      "42  Just a Regular Family                        reality       2\n",
      "43             Horrorfest                         horror       5\n",
      "44          The Sheriff 1           crime drama, western       5\n",
      "45        Master Criminal  thriller, horror, crime drama       5\n",
      "46      Attack on Earth 2                 sci-fi, action       5\n",
      "47       Trapped in Space                sci-fi, mystery       5\n",
      "\n",
      "Recommendations : \n",
      "                         title                      genre    rating\n",
      "movie_id                                                           \n",
      "29          Post-Apocalyptia 1  sci-fi, thriller, mystery  5.167552\n",
      "14              The Spy Family                  spy drama  4.913145\n",
      "24        The Big City Judge 3                legal drama  4.693292\n",
      "21             Political Gaffs   comedy, political satire  4.619494\n",
      "33                Sports Nerds                     comedy  4.581610\n"
     ]
    }
   ],
   "source": [
    "predicted_ratings = np.matmul(U, M)\n",
    "\n",
    "print(f'Enter a User ID to get Recommendation between 1 and 100 :')\n",
    "user_id = int(input())\n",
    "print(f'\\nMovies Previously Reviewed by User ID : {user_id}\\n')\n",
    "\n",
    "\n",
    "reviewed_movies = ratings[ratings['user_id'] == user_id]\n",
    "reviewed_movies = reviewed_movies.join(movies, on='movie_id')\n",
    "\n",
    "print(f'Reviewed Movies : \\n{reviewed_movies[[\"title\", \"genre\", \"rating\"]]}')\n",
    "\n",
    "user_ratings = predicted_ratings[user_id - 1]\n",
    "movies['rating'] = user_ratings\n",
    "\n",
    "already_reviewed = reviewed_movies['movie_id']\n",
    "recommend = movies[movies.index.isin(already_reviewed) == False]\n",
    "recommend = recommend.sort_values(by=['rating'], ascending = False)\n",
    "\n",
    "print(f'\\nRecommendations : \\n{recommend[[\"title\", \"genre\", \"rating\"]].head(5)}')"
   ]
  },
  {
   "cell_type": "markdown",
   "metadata": {},
   "source": [
    "Modeling Users and Movies\n",
    "\n",
    "Movie Ratings > Matrix Factorization > U ( User Attributes ) | M ( Movie Attributes )\n",
    "\n",
    "Overfitting ( Model will Fail to Seperate a Horror Comedy and Serious Horror )\n",
    "\n",
    "How to Prevent from Overfitting ?\n",
    "\n",
    "1. Regularization\n",
    "\n",
    "- Control how much Weight to Assign on Single Attribute.\n",
    "- Higher the Regularization Amount, Less Weight we can put on any Single Attribute.\n",
    "- Setting Regularization : 0.1 ( Small Data Set ) and 1.0, 10.0, etc ( Large Data Set )\n",
    "\n",
    "2. Root Mean Squared Error ( RMSE )\n",
    "- Difference between User's Real Rating and Predicted Rating.\n",
    "- Lower RMSE, more Accurate Model.\n",
    "\n",
    "How to Measure Accuracy ?\n",
    "\n",
    "- Split the Review Data into Train Set and Test Set.\n",
    "- Do Matrix Factorization using only Training Set.\n",
    "- Check Accuracy on Test Set."
   ]
  },
  {
   "cell_type": "code",
   "execution_count": 7,
   "metadata": {},
   "outputs": [
    {
     "name": "stdout",
     "output_type": "stream",
     "text": [
      "RMSE : 0.02053592227169507\n"
     ]
    }
   ],
   "source": [
    "rmse = matrix_factorization_utilities.RMSE(matrix, predicted_ratings)\n",
    "print(f'RMSE : {rmse}')"
   ]
  },
  {
   "cell_type": "markdown",
   "metadata": {},
   "source": [
    "Save User Rating Features, Movie Features and Predicted Ratings "
   ]
  },
  {
   "cell_type": "code",
   "execution_count": 8,
   "metadata": {},
   "outputs": [],
   "source": [
    "import pickle\n",
    "pickle.dump(U, open('../Data/User_Rating_Features.dat', mode='wb'))\n",
    "pickle.dump(M, open('../Data/Movie_Features.dat', mode='wb'))\n",
    "pickle.dump(predicted_ratings, open('../Data/Predicted_Ratings.dat', mode='wb'))"
   ]
  }
 ],
 "metadata": {
  "kernelspec": {
   "display_name": "Python 3",
   "language": "python",
   "name": "python3"
  },
  "language_info": {
   "codemirror_mode": {
    "name": "ipython",
    "version": 3
   },
   "file_extension": ".py",
   "mimetype": "text/x-python",
   "name": "python",
   "nbconvert_exporter": "python",
   "pygments_lexer": "ipython3",
   "version": "3.8.5"
  }
 },
 "nbformat": 4,
 "nbformat_minor": 4
}
