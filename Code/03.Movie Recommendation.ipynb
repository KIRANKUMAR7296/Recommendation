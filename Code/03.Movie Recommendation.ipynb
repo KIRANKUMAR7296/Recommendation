{
 "cells": [
  {
   "cell_type": "code",
   "execution_count": 1,
   "metadata": {},
   "outputs": [],
   "source": [
    "import numpy as np\n",
    "import pandas as pd\n",
    "import pickle"
   ]
  },
  {
   "cell_type": "markdown",
   "metadata": {},
   "source": [
    "Import Movies Data Set"
   ]
  },
  {
   "cell_type": "code",
   "execution_count": 2,
   "metadata": {},
   "outputs": [],
   "source": [
    "movies = pd.read_csv('../Data/Movies.csv', index_col='movie_id')"
   ]
  },
  {
   "cell_type": "markdown",
   "metadata": {},
   "source": [
    "Load Predictions and Features "
   ]
  },
  {
   "cell_type": "code",
   "execution_count": 3,
   "metadata": {},
   "outputs": [],
   "source": [
    "U = pickle.load(open('../Data/User_Rating_Features.dat', mode='rb'))\n",
    "M = pickle.load(open('../Data/Movie_Features.dat', mode='rb'))\n",
    "predictions = pickle.load(open('../Data/Predicted_Ratings.dat', mode='rb'))"
   ]
  },
  {
   "cell_type": "markdown",
   "metadata": {},
   "source": [
    "Recommendation"
   ]
  },
  {
   "cell_type": "code",
   "execution_count": 4,
   "metadata": {},
   "outputs": [
    {
     "name": "stdout",
     "output_type": "stream",
     "text": [
      "Enter User ID to get Recommendations between 1 and 100 :7\n",
      "\n",
      "Movies Recommended :\n",
      "                       title                          genre    rating\n",
      "movie_id                                                             \n",
      "29        Post-Apocalyptia 1      sci-fi, thriller, mystery  5.167552\n",
      "22         Attack on Earth 2                 sci-fi, action  4.995945\n",
      "13             The Sheriff 3           crime drama, western  4.988565\n",
      "16           Master Criminal  thriller, horror, crime drama  4.983467\n",
      "23          Trapped in Space                sci-fi, mystery  4.981594\n"
     ]
    }
   ],
   "source": [
    "user_id = int(input('Enter User ID to get Recommendations between 1 and 100 :'))\n",
    "print(f'\\nMovies Recommended :')\n",
    "\n",
    "user_ratings = predictions[user_id - 1]\n",
    "\n",
    "movies['rating'] = user_ratings\n",
    "movies = movies.sort_values(by=['rating'], ascending=False)\n",
    "\n",
    "print(f'{movies[[\"title\", \"genre\", \"rating\"]].head()}')"
   ]
  }
 ],
 "metadata": {
  "kernelspec": {
   "display_name": "Python 3",
   "language": "python",
   "name": "python3"
  },
  "language_info": {
   "codemirror_mode": {
    "name": "ipython",
    "version": 3
   },
   "file_extension": ".py",
   "mimetype": "text/x-python",
   "name": "python",
   "nbconvert_exporter": "python",
   "pygments_lexer": "ipython3",
   "version": "3.8.5"
  }
 },
 "nbformat": 4,
 "nbformat_minor": 4
}
