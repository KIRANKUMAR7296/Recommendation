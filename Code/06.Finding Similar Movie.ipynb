{
 "cells": [
  {
   "cell_type": "code",
   "execution_count": 1,
   "metadata": {},
   "outputs": [],
   "source": [
    "import numpy as np\n",
    "import pandas as pd\n",
    "import pickle"
   ]
  },
  {
   "cell_type": "markdown",
   "metadata": {},
   "source": [
    "Import Movie Prediction"
   ]
  },
  {
   "cell_type": "code",
   "execution_count": 2,
   "metadata": {},
   "outputs": [],
   "source": [
    "M = pickle.load(open('../Data/New_User_Movie_Features.dat', mode='rb'))\n",
    "M = np.transpose(M)"
   ]
  },
  {
   "cell_type": "markdown",
   "metadata": {},
   "source": [
    "Import Movies Data Set"
   ]
  },
  {
   "cell_type": "code",
   "execution_count": 3,
   "metadata": {},
   "outputs": [],
   "source": [
    "movies = pd.read_csv('../Data/Movies.csv', index_col='movie_id')"
   ]
  },
  {
   "cell_type": "markdown",
   "metadata": {},
   "source": [
    "Choose a Movie to Find Similar Movies"
   ]
  },
  {
   "cell_type": "code",
   "execution_count": 4,
   "metadata": {},
   "outputs": [
    {
     "name": "stdout",
     "output_type": "stream",
     "text": [
      "We are Finding Movies Similar to this Movie :\n",
      "Movie Title : The Big City Judge 2\n",
      "Genre : legal drama\n"
     ]
    }
   ],
   "source": [
    "movie_info = movies.loc[5]\n",
    "print(f'We are Finding Movies Similar to this Movie :')\n",
    "print(f'Movie Title : {movie_info.title}')\n",
    "print(f'Genre : {movie_info.genre}')"
   ]
  },
  {
   "cell_type": "markdown",
   "metadata": {},
   "source": [
    "Get Features for Movie 1 found via Matrix Factorization"
   ]
  },
  {
   "cell_type": "code",
   "execution_count": 5,
   "metadata": {},
   "outputs": [
    {
     "name": "stdout",
     "output_type": "stream",
     "text": [
      "The Attributes of the Movie are :\n",
      "[ 0.21180169 -0.26702848  0.15269398  0.35008055 -0.14274749  0.20875133\n",
      "  0.38081814  0.22739693  0.16717271 -0.10746981  0.06502994 -0.35917072\n",
      "  0.01995192  0.24033917 -0.11086207]\n"
     ]
    }
   ],
   "source": [
    "current_movie_features = M[5-1]\n",
    "print('The Attributes of the Movie are :')\n",
    "print(f'{current_movie_features}')"
   ]
  },
  {
   "cell_type": "markdown",
   "metadata": {},
   "source": [
    "Main Logic behind Finding Similar Movies\n",
    "\n",
    "1. Subtract the Current Movie's Features from every other Movie's Features"
   ]
  },
  {
   "cell_type": "code",
   "execution_count": 6,
   "metadata": {},
   "outputs": [],
   "source": [
    "difference = M - current_movie_features"
   ]
  },
  {
   "cell_type": "markdown",
   "metadata": {},
   "source": [
    "2. Take the Absolute Value of that Difference ( All Numbers are Positive )"
   ]
  },
  {
   "cell_type": "code",
   "execution_count": 7,
   "metadata": {},
   "outputs": [],
   "source": [
    "absolute_difference = np.abs(difference)"
   ]
  },
  {
   "cell_type": "markdown",
   "metadata": {},
   "source": [
    "3. Total Difference Score "
   ]
  },
  {
   "cell_type": "code",
   "execution_count": 8,
   "metadata": {},
   "outputs": [],
   "source": [
    "total_difference = np.sum(absolute_difference, axis=1)"
   ]
  },
  {
   "cell_type": "markdown",
   "metadata": {},
   "source": [
    "4. Create a New Column in Movie List with Difference Score for Each Movie."
   ]
  },
  {
   "cell_type": "code",
   "execution_count": 9,
   "metadata": {},
   "outputs": [],
   "source": [
    "movies['difference_score'] = total_difference"
   ]
  },
  {
   "cell_type": "markdown",
   "metadata": {},
   "source": [
    "5. Sort the Movie List by Difference Score, from Least Difference to Most Difference."
   ]
  },
  {
   "cell_type": "code",
   "execution_count": 10,
   "metadata": {},
   "outputs": [],
   "source": [
    "sorted_movie_list = movies.sort_values('difference_score')"
   ]
  },
  {
   "cell_type": "markdown",
   "metadata": {},
   "source": [
    "Similar Movies"
   ]
  },
  {
   "cell_type": "code",
   "execution_count": 11,
   "metadata": {},
   "outputs": [
    {
     "name": "stdout",
     "output_type": "stream",
     "text": [
      "The 5 Most Similar Movies are:\n",
      "                             title  difference_score\n",
      "movie_id                                            \n",
      "5             The Big City Judge 2          0.000000\n",
      "11               Inspector Jackson          2.026218\n",
      "8         Sci-Fi Murder Detectives          2.039429\n",
      "26               Mafia Underground          2.538206\n",
      "24            The Big City Judge 3          2.552375\n"
     ]
    }
   ],
   "source": [
    "print(f'The 5 Most Similar Movies are:')\n",
    "print(sorted_movie_list[['title', 'difference_score']].head())"
   ]
  }
 ],
 "metadata": {
  "kernelspec": {
   "display_name": "Python 3",
   "language": "python",
   "name": "python3"
  },
  "language_info": {
   "codemirror_mode": {
    "name": "ipython",
    "version": 3
   },
   "file_extension": ".py",
   "mimetype": "text/x-python",
   "name": "python",
   "nbconvert_exporter": "python",
   "pygments_lexer": "ipython3",
   "version": "3.8.5"
  }
 },
 "nbformat": 4,
 "nbformat_minor": 4
}
