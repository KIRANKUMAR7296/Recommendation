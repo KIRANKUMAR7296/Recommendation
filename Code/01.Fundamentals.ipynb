{
 "cells": [
  {
   "cell_type": "markdown",
   "metadata": {},
   "source": [
    "### Recommendation\n",
    "\n",
    "**A. Content Based** : Recommend Product or Content based on **Similar Attributes**.\n",
    "- I Saw a Comedy Movie Hera Pheri and Rated 5 Star\n",
    "- I Saw a Comedy Movie Dhamaal and Rated 5 Star\n",
    "- YouTube Started Recommending me more Comedy Movies ( Content )  \n",
    "\n",
    "**Advantage** : Works even when Product or Content has no Rating but Attribute is Important for every Product or Content.\n",
    "\n",
    "**B. Collaborative Filtering** : Recommend Product and Content based on Past User **Ratings** not based on Attributes.\n",
    "- I Saw Avengers and Rated 5 Star | My Friend Akash Saw Avengers and Rated 4 Star\n",
    "- I Saw Underground and Rated 4 Star | Akash Saw Underground and Rated 5 Star\n",
    "- I Saw Captain America and Rated 5 Star | Hotstar Recommended Captain America to Akash.\n",
    "\n",
    "**Advantage** : No need of Attributes, but User Reviews are very Important.\n",
    "\n",
    "**Real Life Examples**\n",
    "\n",
    "1. Social Media \n",
    "- Facebook : Posts and Friends.\n",
    "- Pinterest : Products, Posts and Pins.\n",
    "- Instagram : Posts, Timeline and Friends.\n",
    "\n",
    "2. Online Content : YouTube, Hotstar and Netflix ( Shows, Movies and Contents )\n",
    "\n",
    "3. Music Service : YouTube Music, Spotify ( Playlist ) and Apple Music Songs.\n",
    "\n",
    "4. Ecommerce : Amazon, Flipkart and Myntra Products.\n",
    "\n",
    "5. Banking and Insurance : Best Policy, Loan Amount and Insurance.\n",
    "\n",
    "Recommender System ( Takes User Past Experience )\n",
    "- Predicts the **Rating** the User would give the Product.\n",
    "- Recommend the Products which will be liked by the User.\n",
    "- Rank Products by User Preference.\n",
    "- Product Similarity ( If User Buy Mobile he will also Buy Case )\n",
    "- Find Similar User Preferences. ( Peoples mostly Buy this also )\n",
    "\n",
    "If the User is New, He / She cannot be Recommended unless any Rating is Submitted.\n",
    "- Until then Products Suggested are Based on his Search Interests and Similar Products."
   ]
  },
  {
   "cell_type": "code",
   "execution_count": 1,
   "metadata": {},
   "outputs": [],
   "source": [
    "import numpy as np\n",
    "import pandas as pd\n",
    "import matrix_factorization_utilities"
   ]
  },
  {
   "cell_type": "code",
   "execution_count": 2,
   "metadata": {},
   "outputs": [
    {
     "name": "stdout",
     "output_type": "stream",
     "text": [
      "Rating on the Scale of 10 : [10, 4, 2, 4, 6, 8, 10, 6, 4, 2]\n"
     ]
    }
   ],
   "source": [
    "ratings = [5,2,1,2,3,4,5,3,2,1]\n",
    "scale10 = [i*2 for i in ratings]\n",
    "print(f'Rating on the Scale of 10 : {scale10}')"
   ]
  },
  {
   "cell_type": "markdown",
   "metadata": {},
   "source": [
    "Numpy is Faster and Efficient than List for Vector and Matrix Operations."
   ]
  },
  {
   "cell_type": "code",
   "execution_count": 3,
   "metadata": {},
   "outputs": [
    {
     "name": "stdout",
     "output_type": "stream",
     "text": [
      "Rating on the Scale of 10 : [10  4  2  4  6  8 10  6  4  2]\n"
     ]
    }
   ],
   "source": [
    "ratings = np.array([5,2,1,2,3,4,5,3,2,1])\n",
    "scale10 = ratings * 2\n",
    "print(f'Rating on the Scale of 10 : {scale10}')"
   ]
  },
  {
   "cell_type": "code",
   "execution_count": 4,
   "metadata": {},
   "outputs": [
    {
     "data": {
      "text/html": [
       "<div>\n",
       "<style scoped>\n",
       "    .dataframe tbody tr th:only-of-type {\n",
       "        vertical-align: middle;\n",
       "    }\n",
       "\n",
       "    .dataframe tbody tr th {\n",
       "        vertical-align: top;\n",
       "    }\n",
       "\n",
       "    .dataframe thead th {\n",
       "        text-align: right;\n",
       "    }\n",
       "</style>\n",
       "<table border=\"1\" class=\"dataframe\">\n",
       "  <thead>\n",
       "    <tr style=\"text-align: right;\">\n",
       "      <th></th>\n",
       "      <th>user_id</th>\n",
       "      <th>movie_id</th>\n",
       "      <th>rating</th>\n",
       "    </tr>\n",
       "  </thead>\n",
       "  <tbody>\n",
       "    <tr>\n",
       "      <th>0</th>\n",
       "      <td>1</td>\n",
       "      <td>28</td>\n",
       "      <td>4</td>\n",
       "    </tr>\n",
       "    <tr>\n",
       "      <th>1</th>\n",
       "      <td>1</td>\n",
       "      <td>26</td>\n",
       "      <td>4</td>\n",
       "    </tr>\n",
       "    <tr>\n",
       "      <th>2</th>\n",
       "      <td>1</td>\n",
       "      <td>9</td>\n",
       "      <td>4</td>\n",
       "    </tr>\n",
       "    <tr>\n",
       "      <th>3</th>\n",
       "      <td>1</td>\n",
       "      <td>1</td>\n",
       "      <td>4</td>\n",
       "    </tr>\n",
       "    <tr>\n",
       "      <th>4</th>\n",
       "      <td>1</td>\n",
       "      <td>14</td>\n",
       "      <td>4</td>\n",
       "    </tr>\n",
       "  </tbody>\n",
       "</table>\n",
       "</div>"
      ],
      "text/plain": [
       "   user_id  movie_id  rating\n",
       "0        1        28       4\n",
       "1        1        26       4\n",
       "2        1         9       4\n",
       "3        1         1       4\n",
       "4        1        14       4"
      ]
     },
     "execution_count": 4,
     "metadata": {},
     "output_type": "execute_result"
    }
   ],
   "source": [
    "ratings = pd.read_csv('../Data/Ratings.csv')\n",
    "ratings.head()"
   ]
  },
  {
   "cell_type": "code",
   "execution_count": 5,
   "metadata": {},
   "outputs": [
    {
     "data": {
      "text/html": [
       "<div>\n",
       "<style scoped>\n",
       "    .dataframe tbody tr th:only-of-type {\n",
       "        vertical-align: middle;\n",
       "    }\n",
       "\n",
       "    .dataframe tbody tr th {\n",
       "        vertical-align: top;\n",
       "    }\n",
       "\n",
       "    .dataframe thead th {\n",
       "        text-align: right;\n",
       "    }\n",
       "</style>\n",
       "<table border=\"1\" class=\"dataframe\">\n",
       "  <thead>\n",
       "    <tr style=\"text-align: right;\">\n",
       "      <th></th>\n",
       "      <th>movie_id</th>\n",
       "      <th>title</th>\n",
       "      <th>genre</th>\n",
       "    </tr>\n",
       "  </thead>\n",
       "  <tbody>\n",
       "    <tr>\n",
       "      <th>0</th>\n",
       "      <td>1</td>\n",
       "      <td>The Sheriff 1</td>\n",
       "      <td>crime drama, western</td>\n",
       "    </tr>\n",
       "    <tr>\n",
       "      <th>1</th>\n",
       "      <td>2</td>\n",
       "      <td>The Big City Judge 1</td>\n",
       "      <td>legal drama</td>\n",
       "    </tr>\n",
       "    <tr>\n",
       "      <th>2</th>\n",
       "      <td>3</td>\n",
       "      <td>The Sheriff 2</td>\n",
       "      <td>crime drama, western</td>\n",
       "    </tr>\n",
       "    <tr>\n",
       "      <th>3</th>\n",
       "      <td>4</td>\n",
       "      <td>Just a Regular Family</td>\n",
       "      <td>reality</td>\n",
       "    </tr>\n",
       "    <tr>\n",
       "      <th>4</th>\n",
       "      <td>5</td>\n",
       "      <td>The Big City Judge 2</td>\n",
       "      <td>legal drama</td>\n",
       "    </tr>\n",
       "  </tbody>\n",
       "</table>\n",
       "</div>"
      ],
      "text/plain": [
       "   movie_id                  title                 genre\n",
       "0         1          The Sheriff 1  crime drama, western\n",
       "1         2   The Big City Judge 1           legal drama\n",
       "2         3          The Sheriff 2  crime drama, western\n",
       "3         4  Just a Regular Family               reality\n",
       "4         5   The Big City Judge 2           legal drama"
      ]
     },
     "execution_count": 5,
     "metadata": {},
     "output_type": "execute_result"
    }
   ],
   "source": [
    "movies = pd.read_csv('../Data/Movies.csv')\n",
    "movies.head()"
   ]
  },
  {
   "cell_type": "markdown",
   "metadata": {},
   "source": [
    "aggfunc = np.max : Replace Duplicates by Max Rating ( User may have Rated Same Movie Twice )\n",
    "\n",
    "Creates a Sparse Matrix"
   ]
  },
  {
   "cell_type": "code",
   "execution_count": 6,
   "metadata": {},
   "outputs": [
    {
     "data": {
      "text/html": [
       "<div>\n",
       "<style scoped>\n",
       "    .dataframe tbody tr th:only-of-type {\n",
       "        vertical-align: middle;\n",
       "    }\n",
       "\n",
       "    .dataframe tbody tr th {\n",
       "        vertical-align: top;\n",
       "    }\n",
       "\n",
       "    .dataframe thead tr th {\n",
       "        text-align: left;\n",
       "    }\n",
       "\n",
       "    .dataframe thead tr:last-of-type th {\n",
       "        text-align: right;\n",
       "    }\n",
       "</style>\n",
       "<table border=\"1\" class=\"dataframe\">\n",
       "  <thead>\n",
       "    <tr>\n",
       "      <th></th>\n",
       "      <th colspan=\"21\" halign=\"left\">rating</th>\n",
       "    </tr>\n",
       "    <tr>\n",
       "      <th>movie_id</th>\n",
       "      <th>1</th>\n",
       "      <th>2</th>\n",
       "      <th>3</th>\n",
       "      <th>4</th>\n",
       "      <th>5</th>\n",
       "      <th>6</th>\n",
       "      <th>7</th>\n",
       "      <th>8</th>\n",
       "      <th>9</th>\n",
       "      <th>10</th>\n",
       "      <th>...</th>\n",
       "      <th>25</th>\n",
       "      <th>26</th>\n",
       "      <th>27</th>\n",
       "      <th>28</th>\n",
       "      <th>29</th>\n",
       "      <th>30</th>\n",
       "      <th>31</th>\n",
       "      <th>32</th>\n",
       "      <th>33</th>\n",
       "      <th>34</th>\n",
       "    </tr>\n",
       "    <tr>\n",
       "      <th>user_id</th>\n",
       "      <th></th>\n",
       "      <th></th>\n",
       "      <th></th>\n",
       "      <th></th>\n",
       "      <th></th>\n",
       "      <th></th>\n",
       "      <th></th>\n",
       "      <th></th>\n",
       "      <th></th>\n",
       "      <th></th>\n",
       "      <th></th>\n",
       "      <th></th>\n",
       "      <th></th>\n",
       "      <th></th>\n",
       "      <th></th>\n",
       "      <th></th>\n",
       "      <th></th>\n",
       "      <th></th>\n",
       "      <th></th>\n",
       "      <th></th>\n",
       "      <th></th>\n",
       "    </tr>\n",
       "  </thead>\n",
       "  <tbody>\n",
       "    <tr>\n",
       "      <th>1</th>\n",
       "      <td>4.0</td>\n",
       "      <td>NaN</td>\n",
       "      <td>NaN</td>\n",
       "      <td>NaN</td>\n",
       "      <td>NaN</td>\n",
       "      <td>NaN</td>\n",
       "      <td>NaN</td>\n",
       "      <td>NaN</td>\n",
       "      <td>4.0</td>\n",
       "      <td>NaN</td>\n",
       "      <td>...</td>\n",
       "      <td>NaN</td>\n",
       "      <td>4.0</td>\n",
       "      <td>NaN</td>\n",
       "      <td>4.0</td>\n",
       "      <td>NaN</td>\n",
       "      <td>NaN</td>\n",
       "      <td>NaN</td>\n",
       "      <td>NaN</td>\n",
       "      <td>NaN</td>\n",
       "      <td>NaN</td>\n",
       "    </tr>\n",
       "    <tr>\n",
       "      <th>2</th>\n",
       "      <td>5.0</td>\n",
       "      <td>5.0</td>\n",
       "      <td>NaN</td>\n",
       "      <td>NaN</td>\n",
       "      <td>NaN</td>\n",
       "      <td>NaN</td>\n",
       "      <td>NaN</td>\n",
       "      <td>NaN</td>\n",
       "      <td>NaN</td>\n",
       "      <td>NaN</td>\n",
       "      <td>...</td>\n",
       "      <td>NaN</td>\n",
       "      <td>NaN</td>\n",
       "      <td>NaN</td>\n",
       "      <td>NaN</td>\n",
       "      <td>NaN</td>\n",
       "      <td>NaN</td>\n",
       "      <td>3.0</td>\n",
       "      <td>NaN</td>\n",
       "      <td>NaN</td>\n",
       "      <td>4.0</td>\n",
       "    </tr>\n",
       "    <tr>\n",
       "      <th>3</th>\n",
       "      <td>4.0</td>\n",
       "      <td>4.0</td>\n",
       "      <td>5.0</td>\n",
       "      <td>NaN</td>\n",
       "      <td>NaN</td>\n",
       "      <td>NaN</td>\n",
       "      <td>NaN</td>\n",
       "      <td>NaN</td>\n",
       "      <td>NaN</td>\n",
       "      <td>NaN</td>\n",
       "      <td>...</td>\n",
       "      <td>NaN</td>\n",
       "      <td>NaN</td>\n",
       "      <td>NaN</td>\n",
       "      <td>NaN</td>\n",
       "      <td>NaN</td>\n",
       "      <td>NaN</td>\n",
       "      <td>NaN</td>\n",
       "      <td>NaN</td>\n",
       "      <td>NaN</td>\n",
       "      <td>NaN</td>\n",
       "    </tr>\n",
       "    <tr>\n",
       "      <th>4</th>\n",
       "      <td>5.0</td>\n",
       "      <td>5.0</td>\n",
       "      <td>NaN</td>\n",
       "      <td>5.0</td>\n",
       "      <td>5.0</td>\n",
       "      <td>NaN</td>\n",
       "      <td>NaN</td>\n",
       "      <td>NaN</td>\n",
       "      <td>NaN</td>\n",
       "      <td>NaN</td>\n",
       "      <td>...</td>\n",
       "      <td>NaN</td>\n",
       "      <td>NaN</td>\n",
       "      <td>NaN</td>\n",
       "      <td>NaN</td>\n",
       "      <td>NaN</td>\n",
       "      <td>NaN</td>\n",
       "      <td>NaN</td>\n",
       "      <td>NaN</td>\n",
       "      <td>NaN</td>\n",
       "      <td>NaN</td>\n",
       "    </tr>\n",
       "    <tr>\n",
       "      <th>5</th>\n",
       "      <td>5.0</td>\n",
       "      <td>NaN</td>\n",
       "      <td>NaN</td>\n",
       "      <td>NaN</td>\n",
       "      <td>NaN</td>\n",
       "      <td>NaN</td>\n",
       "      <td>NaN</td>\n",
       "      <td>NaN</td>\n",
       "      <td>5.0</td>\n",
       "      <td>NaN</td>\n",
       "      <td>...</td>\n",
       "      <td>NaN</td>\n",
       "      <td>NaN</td>\n",
       "      <td>NaN</td>\n",
       "      <td>NaN</td>\n",
       "      <td>3.0</td>\n",
       "      <td>NaN</td>\n",
       "      <td>3.0</td>\n",
       "      <td>2.0</td>\n",
       "      <td>5.0</td>\n",
       "      <td>5.0</td>\n",
       "    </tr>\n",
       "  </tbody>\n",
       "</table>\n",
       "<p>5 rows × 34 columns</p>\n",
       "</div>"
      ],
      "text/plain": [
       "         rating                                           ...               \\\n",
       "movie_id     1    2    3    4    5   6   7   8    9   10  ...  25   26  27   \n",
       "user_id                                                   ...                \n",
       "1           4.0  NaN  NaN  NaN  NaN NaN NaN NaN  4.0 NaN  ... NaN  4.0 NaN   \n",
       "2           5.0  5.0  NaN  NaN  NaN NaN NaN NaN  NaN NaN  ... NaN  NaN NaN   \n",
       "3           4.0  4.0  5.0  NaN  NaN NaN NaN NaN  NaN NaN  ... NaN  NaN NaN   \n",
       "4           5.0  5.0  NaN  5.0  5.0 NaN NaN NaN  NaN NaN  ... NaN  NaN NaN   \n",
       "5           5.0  NaN  NaN  NaN  NaN NaN NaN NaN  5.0 NaN  ... NaN  NaN NaN   \n",
       "\n",
       "                                            \n",
       "movie_id   28   29  30   31   32   33   34  \n",
       "user_id                                     \n",
       "1         4.0  NaN NaN  NaN  NaN  NaN  NaN  \n",
       "2         NaN  NaN NaN  3.0  NaN  NaN  4.0  \n",
       "3         NaN  NaN NaN  NaN  NaN  NaN  NaN  \n",
       "4         NaN  NaN NaN  NaN  NaN  NaN  NaN  \n",
       "5         NaN  3.0 NaN  3.0  2.0  5.0  5.0  \n",
       "\n",
       "[5 rows x 34 columns]"
      ]
     },
     "execution_count": 6,
     "metadata": {},
     "output_type": "execute_result"
    }
   ],
   "source": [
    "rating = pd.pivot_table(ratings, index='user_id', columns='movie_id', aggfunc=np.max)\n",
    "rating.head()"
   ]
  },
  {
   "cell_type": "code",
   "execution_count": 7,
   "metadata": {},
   "outputs": [],
   "source": [
    "rating.to_csv('../Data/Rating_Matrix.csv', index=False, na_rep='')"
   ]
  },
  {
   "cell_type": "markdown",
   "metadata": {},
   "source": [
    "### Building a Recommendation System\n",
    "\n",
    "1. Create a Matrix of known User Reviews\n",
    "2. Factor out a U Matrix and M Matrix from known Reviews.\n",
    "3. Multiply the U and M Matrices we found to get Review Scores for every User and every Movie.\n",
    "\n",
    "### Matrix Factorization\n",
    "\n",
    "U x M = Movie Ratings\n",
    "\n",
    "U : User Attributes\n",
    "\n",
    "M : Movie Attributes"
   ]
  },
  {
   "cell_type": "code",
   "execution_count": 8,
   "metadata": {},
   "outputs": [
    {
     "name": "stdout",
     "output_type": "stream",
     "text": [
      "Warning: Maximum number of iterations has been exceeded.\n",
      "         Current function value: 32.504368\n",
      "         Iterations: 3000\n",
      "         Function evaluations: 4491\n",
      "         Gradient evaluations: 4491\n"
     ]
    }
   ],
   "source": [
    "U, M = matrix_factorization_utilities.low_rank_matrix_factorization(rating.values, \n",
    "                                                          num_features = 15, \n",
    "                                                          regularization_amount = 0.1)\n",
    "\n",
    "predicted_rating = np.matmul(U, M)"
   ]
  },
  {
   "cell_type": "code",
   "execution_count": 9,
   "metadata": {},
   "outputs": [],
   "source": [
    "predicted_rating = pd.DataFrame(data=predicted_rating, \n",
    "                                 index=rating.index, \n",
    "                                 columns=rating.columns)\n",
    "predicted_rating.to_csv('../Data/Predicted_Rating.csv')"
   ]
  },
  {
   "cell_type": "code",
   "execution_count": 10,
   "metadata": {},
   "outputs": [
    {
     "data": {
      "text/html": [
       "<div>\n",
       "<style scoped>\n",
       "    .dataframe tbody tr th:only-of-type {\n",
       "        vertical-align: middle;\n",
       "    }\n",
       "\n",
       "    .dataframe tbody tr th {\n",
       "        vertical-align: top;\n",
       "    }\n",
       "\n",
       "    .dataframe thead tr th {\n",
       "        text-align: left;\n",
       "    }\n",
       "\n",
       "    .dataframe thead tr:last-of-type th {\n",
       "        text-align: right;\n",
       "    }\n",
       "</style>\n",
       "<table border=\"1\" class=\"dataframe\">\n",
       "  <thead>\n",
       "    <tr>\n",
       "      <th></th>\n",
       "      <th colspan=\"21\" halign=\"left\">rating</th>\n",
       "    </tr>\n",
       "    <tr>\n",
       "      <th>movie_id</th>\n",
       "      <th>1</th>\n",
       "      <th>2</th>\n",
       "      <th>3</th>\n",
       "      <th>4</th>\n",
       "      <th>5</th>\n",
       "      <th>6</th>\n",
       "      <th>7</th>\n",
       "      <th>8</th>\n",
       "      <th>9</th>\n",
       "      <th>10</th>\n",
       "      <th>...</th>\n",
       "      <th>25</th>\n",
       "      <th>26</th>\n",
       "      <th>27</th>\n",
       "      <th>28</th>\n",
       "      <th>29</th>\n",
       "      <th>30</th>\n",
       "      <th>31</th>\n",
       "      <th>32</th>\n",
       "      <th>33</th>\n",
       "      <th>34</th>\n",
       "    </tr>\n",
       "    <tr>\n",
       "      <th>user_id</th>\n",
       "      <th></th>\n",
       "      <th></th>\n",
       "      <th></th>\n",
       "      <th></th>\n",
       "      <th></th>\n",
       "      <th></th>\n",
       "      <th></th>\n",
       "      <th></th>\n",
       "      <th></th>\n",
       "      <th></th>\n",
       "      <th></th>\n",
       "      <th></th>\n",
       "      <th></th>\n",
       "      <th></th>\n",
       "      <th></th>\n",
       "      <th></th>\n",
       "      <th></th>\n",
       "      <th></th>\n",
       "      <th></th>\n",
       "      <th></th>\n",
       "      <th></th>\n",
       "    </tr>\n",
       "  </thead>\n",
       "  <tbody>\n",
       "    <tr>\n",
       "      <th>1</th>\n",
       "      <td>4.003216</td>\n",
       "      <td>3.920547</td>\n",
       "      <td>4.155716</td>\n",
       "      <td>3.527620</td>\n",
       "      <td>3.920374</td>\n",
       "      <td>4.142957</td>\n",
       "      <td>2.655737</td>\n",
       "      <td>4.066545</td>\n",
       "      <td>4.010424</td>\n",
       "      <td>3.805422</td>\n",
       "      <td>...</td>\n",
       "      <td>3.797095</td>\n",
       "      <td>3.984577</td>\n",
       "      <td>3.330513</td>\n",
       "      <td>3.990522</td>\n",
       "      <td>3.457377</td>\n",
       "      <td>3.107520</td>\n",
       "      <td>2.722725</td>\n",
       "      <td>3.355335</td>\n",
       "      <td>3.040900</td>\n",
       "      <td>4.568881</td>\n",
       "    </tr>\n",
       "    <tr>\n",
       "      <th>2</th>\n",
       "      <td>4.970684</td>\n",
       "      <td>4.967978</td>\n",
       "      <td>4.445416</td>\n",
       "      <td>3.903556</td>\n",
       "      <td>4.831519</td>\n",
       "      <td>4.706452</td>\n",
       "      <td>3.393987</td>\n",
       "      <td>4.698964</td>\n",
       "      <td>4.531863</td>\n",
       "      <td>4.837514</td>\n",
       "      <td>...</td>\n",
       "      <td>4.314384</td>\n",
       "      <td>4.494209</td>\n",
       "      <td>4.414732</td>\n",
       "      <td>4.164014</td>\n",
       "      <td>3.462601</td>\n",
       "      <td>4.389560</td>\n",
       "      <td>2.994320</td>\n",
       "      <td>4.346947</td>\n",
       "      <td>4.013085</td>\n",
       "      <td>3.999419</td>\n",
       "    </tr>\n",
       "    <tr>\n",
       "      <th>3</th>\n",
       "      <td>4.017185</td>\n",
       "      <td>3.985703</td>\n",
       "      <td>4.955731</td>\n",
       "      <td>4.088417</td>\n",
       "      <td>4.528633</td>\n",
       "      <td>4.271205</td>\n",
       "      <td>2.818575</td>\n",
       "      <td>4.338047</td>\n",
       "      <td>4.491405</td>\n",
       "      <td>4.367840</td>\n",
       "      <td>...</td>\n",
       "      <td>4.080784</td>\n",
       "      <td>4.317091</td>\n",
       "      <td>3.879793</td>\n",
       "      <td>4.474693</td>\n",
       "      <td>3.205995</td>\n",
       "      <td>3.237242</td>\n",
       "      <td>2.231629</td>\n",
       "      <td>2.590040</td>\n",
       "      <td>3.445286</td>\n",
       "      <td>4.597615</td>\n",
       "    </tr>\n",
       "    <tr>\n",
       "      <th>4</th>\n",
       "      <td>4.991048</td>\n",
       "      <td>4.987252</td>\n",
       "      <td>4.929135</td>\n",
       "      <td>4.961959</td>\n",
       "      <td>5.010576</td>\n",
       "      <td>4.961558</td>\n",
       "      <td>3.944718</td>\n",
       "      <td>5.076156</td>\n",
       "      <td>4.952066</td>\n",
       "      <td>5.017276</td>\n",
       "      <td>...</td>\n",
       "      <td>4.062659</td>\n",
       "      <td>4.741913</td>\n",
       "      <td>4.503193</td>\n",
       "      <td>4.906791</td>\n",
       "      <td>3.116714</td>\n",
       "      <td>3.413771</td>\n",
       "      <td>2.007584</td>\n",
       "      <td>4.223526</td>\n",
       "      <td>4.171771</td>\n",
       "      <td>4.644265</td>\n",
       "    </tr>\n",
       "    <tr>\n",
       "      <th>5</th>\n",
       "      <td>4.980618</td>\n",
       "      <td>4.240475</td>\n",
       "      <td>5.461400</td>\n",
       "      <td>4.373442</td>\n",
       "      <td>5.163319</td>\n",
       "      <td>4.554854</td>\n",
       "      <td>3.151814</td>\n",
       "      <td>4.637487</td>\n",
       "      <td>4.982078</td>\n",
       "      <td>4.919475</td>\n",
       "      <td>...</td>\n",
       "      <td>4.506108</td>\n",
       "      <td>4.722967</td>\n",
       "      <td>3.737277</td>\n",
       "      <td>5.074061</td>\n",
       "      <td>3.017248</td>\n",
       "      <td>3.610672</td>\n",
       "      <td>2.996292</td>\n",
       "      <td>2.031811</td>\n",
       "      <td>4.980757</td>\n",
       "      <td>4.987328</td>\n",
       "    </tr>\n",
       "  </tbody>\n",
       "</table>\n",
       "<p>5 rows × 34 columns</p>\n",
       "</div>"
      ],
      "text/plain": [
       "            rating                                                    \\\n",
       "movie_id        1         2         3         4         5         6    \n",
       "user_id                                                                \n",
       "1         4.003216  3.920547  4.155716  3.527620  3.920374  4.142957   \n",
       "2         4.970684  4.967978  4.445416  3.903556  4.831519  4.706452   \n",
       "3         4.017185  3.985703  4.955731  4.088417  4.528633  4.271205   \n",
       "4         4.991048  4.987252  4.929135  4.961959  5.010576  4.961558   \n",
       "5         4.980618  4.240475  5.461400  4.373442  5.163319  4.554854   \n",
       "\n",
       "                                                  ...                      \\\n",
       "movie_id        7         8         9         10  ...        25        26   \n",
       "user_id                                           ...                       \n",
       "1         2.655737  4.066545  4.010424  3.805422  ...  3.797095  3.984577   \n",
       "2         3.393987  4.698964  4.531863  4.837514  ...  4.314384  4.494209   \n",
       "3         2.818575  4.338047  4.491405  4.367840  ...  4.080784  4.317091   \n",
       "4         3.944718  5.076156  4.952066  5.017276  ...  4.062659  4.741913   \n",
       "5         3.151814  4.637487  4.982078  4.919475  ...  4.506108  4.722967   \n",
       "\n",
       "                                                                      \\\n",
       "movie_id        27        28        29        30        31        32   \n",
       "user_id                                                                \n",
       "1         3.330513  3.990522  3.457377  3.107520  2.722725  3.355335   \n",
       "2         4.414732  4.164014  3.462601  4.389560  2.994320  4.346947   \n",
       "3         3.879793  4.474693  3.205995  3.237242  2.231629  2.590040   \n",
       "4         4.503193  4.906791  3.116714  3.413771  2.007584  4.223526   \n",
       "5         3.737277  5.074061  3.017248  3.610672  2.996292  2.031811   \n",
       "\n",
       "                              \n",
       "movie_id        33        34  \n",
       "user_id                       \n",
       "1         3.040900  4.568881  \n",
       "2         4.013085  3.999419  \n",
       "3         3.445286  4.597615  \n",
       "4         4.171771  4.644265  \n",
       "5         4.980757  4.987328  \n",
       "\n",
       "[5 rows x 34 columns]"
      ]
     },
     "execution_count": 10,
     "metadata": {},
     "output_type": "execute_result"
    }
   ],
   "source": [
    "predicted_rating.head()"
   ]
  },
  {
   "cell_type": "code",
   "execution_count": 11,
   "metadata": {},
   "outputs": [],
   "source": [
    "M = np.transpose(M)"
   ]
  },
  {
   "cell_type": "markdown",
   "metadata": {},
   "source": [
    "Get Movie Name and Genre"
   ]
  },
  {
   "cell_type": "code",
   "execution_count": 12,
   "metadata": {},
   "outputs": [],
   "source": [
    "movie_info = movies.loc[5]"
   ]
  },
  {
   "cell_type": "code",
   "execution_count": 13,
   "metadata": {},
   "outputs": [
    {
     "name": "stdout",
     "output_type": "stream",
     "text": [
      "We are Finding Movies Similar to this Movie\n",
      "Movie Title : Attack on Earth 1\n",
      "Movie Genre : sci-fi, action\n"
     ]
    }
   ],
   "source": [
    "print(f'We are Finding Movies Similar to this Movie')\n",
    "print(f'Movie Title : {movie_info.title}')\n",
    "print(f'Movie Genre : {movie_info.genre}')"
   ]
  },
  {
   "cell_type": "markdown",
   "metadata": {},
   "source": [
    "Feature's for Movie 1 founded by Matrix Factorization"
   ]
  },
  {
   "cell_type": "code",
   "execution_count": 14,
   "metadata": {},
   "outputs": [
    {
     "name": "stdout",
     "output_type": "stream",
     "text": [
      "Attributes of the Movie \n",
      "[ 1.01243972 -0.84705814 -0.74916614  0.63523473 -0.98022829 -1.67040372\n",
      " -0.95887986  0.28211909 -0.30292783 -0.05162494 -0.10111138 -0.24361378\n",
      " -0.03148131 -0.8380774   1.07876908]\n"
     ]
    }
   ],
   "source": [
    "movie_feature = M[5 - 1]\n",
    "print(f'Attributes of the Movie \\n{movie_feature}')"
   ]
  },
  {
   "cell_type": "markdown",
   "metadata": {},
   "source": [
    "Main Logic to Find Similar Movie\n",
    "\n",
    "Subtract Current Movie Feature from every other Movie"
   ]
  },
  {
   "cell_type": "code",
   "execution_count": 15,
   "metadata": {},
   "outputs": [],
   "source": [
    "difference = M - movie_feature"
   ]
  },
  {
   "cell_type": "markdown",
   "metadata": {},
   "source": [
    "Take Absolute Value of Difference ( All Members to be Positive )"
   ]
  },
  {
   "cell_type": "code",
   "execution_count": 16,
   "metadata": {},
   "outputs": [],
   "source": [
    "absolute_difference = np.abs(difference)"
   ]
  },
  {
   "cell_type": "markdown",
   "metadata": {},
   "source": [
    "Each Movie has 15 Features"
   ]
  },
  {
   "cell_type": "code",
   "execution_count": 17,
   "metadata": {},
   "outputs": [],
   "source": [
    "total_difference = np.sum(absolute_difference, axis = 1)"
   ]
  },
  {
   "cell_type": "markdown",
   "metadata": {},
   "source": [
    "Create a New Column in the Movie List with the Difference Score for each Movie."
   ]
  },
  {
   "cell_type": "code",
   "execution_count": 18,
   "metadata": {},
   "outputs": [],
   "source": [
    "movies['difference_score'] = total_difference"
   ]
  },
  {
   "cell_type": "markdown",
   "metadata": {},
   "source": [
    "Sort the Movie List by Score Difference"
   ]
  },
  {
   "cell_type": "code",
   "execution_count": 19,
   "metadata": {},
   "outputs": [],
   "source": [
    "sorted_movie = movies.sort_values('difference_score')"
   ]
  },
  {
   "cell_type": "code",
   "execution_count": 20,
   "metadata": {},
   "outputs": [
    {
     "name": "stdout",
     "output_type": "stream",
     "text": [
      "The Five Most Similar Movies are :\n",
      "                      title  difference_score\n",
      "4      The Big City Judge 2          0.000000\n",
      "9   Surrounded by Zombies 1          2.772919\n",
      "7  Sci-Fi Murder Detectives          3.492530\n",
      "8               Biker Gangs          3.515214\n",
      "2             The Sheriff 2          4.035645\n"
     ]
    }
   ],
   "source": [
    "print(f'The Five Most Similar Movies are :')\n",
    "print(sorted_movie[['title', 'difference_score']].head())"
   ]
  }
 ],
 "metadata": {
  "kernelspec": {
   "display_name": "Python 3",
   "language": "python",
   "name": "python3"
  },
  "language_info": {
   "codemirror_mode": {
    "name": "ipython",
    "version": 3
   },
   "file_extension": ".py",
   "mimetype": "text/x-python",
   "name": "python",
   "nbconvert_exporter": "python",
   "pygments_lexer": "ipython3",
   "version": "3.8.5"
  }
 },
 "nbformat": 4,
 "nbformat_minor": 4
}
